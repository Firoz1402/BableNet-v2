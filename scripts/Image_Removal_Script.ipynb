{
 "cells": [
  {
   "cell_type": "code",
   "execution_count": 3,
   "id": "25440d81-d5b6-456d-916b-62b62f2e5020",
   "metadata": {},
   "outputs": [
    {
     "name": "stdout",
     "output_type": "stream",
     "text": [
      "Removed 1001 images from cats\n",
      "Removed 1006 images from dogs\n"
     ]
    }
   ],
   "source": [
    "import os\n",
    "import random\n",
    "\n",
    "def keep_max_images(root_dir, max_images):\n",
    "    for class_dir in os.listdir(root_dir):\n",
    "        class_path = os.path.join(root_dir, class_dir)\n",
    "        if os.path.isdir(class_path):\n",
    "            images = [f for f in os.listdir(class_path) if os.path.isfile(os.path.join(class_path, f))]\n",
    "            \n",
    "            if len(images) > max_images:\n",
    "                images_to_remove = random.sample(images, len(images) - max_images)\n",
    "                for image in images_to_remove:\n",
    "                    os.remove(os.path.join(class_path, image))\n",
    "                print(f\"Removed {len(images_to_remove)} images from {class_dir}\")\n",
    "\n",
    "# Usage\n",
    "root_dir = 'data/images'\n",
    "max_images = 3000  # Set the desired maximum number of images per class\n",
    "keep_max_images(root_dir, max_images)\n"
   ]
  },
  {
   "cell_type": "code",
   "execution_count": null,
   "id": "da75da98-f194-453b-a49c-11f7f2fac930",
   "metadata": {},
   "outputs": [],
   "source": []
  }
 ],
 "metadata": {
  "kernelspec": {
   "display_name": "Python 3 (ipykernel)",
   "language": "python",
   "name": "python3"
  },
  "language_info": {
   "codemirror_mode": {
    "name": "ipython",
    "version": 3
   },
   "file_extension": ".py",
   "mimetype": "text/x-python",
   "name": "python",
   "nbconvert_exporter": "python",
   "pygments_lexer": "ipython3",
   "version": "3.10.12"
  }
 },
 "nbformat": 4,
 "nbformat_minor": 5
}
